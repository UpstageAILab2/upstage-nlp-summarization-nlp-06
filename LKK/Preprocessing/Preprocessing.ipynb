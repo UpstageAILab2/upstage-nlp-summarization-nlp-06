{
 "cells": [
  {
   "cell_type": "markdown",
   "metadata": {},
   "source": [
    "# Data Preprocessing"
   ]
  },
  {
   "cell_type": "markdown",
   "metadata": {},
   "source": [
    "## Library"
   ]
  },
  {
   "cell_type": "code",
   "execution_count": 27,
   "metadata": {},
   "outputs": [],
   "source": [
    "import pandas as pd\n",
    "import re"
   ]
  },
  {
   "cell_type": "markdown",
   "metadata": {},
   "source": [
    "## Load data"
   ]
  },
  {
   "cell_type": "code",
   "execution_count": 28,
   "metadata": {},
   "outputs": [],
   "source": [
    "train = pd.read_csv('../data/train.csv')\n",
    "dev = pd.read_csv('../data/dev.csv')\n",
    "test = pd.read_csv('../data/test.csv')"
   ]
  },
  {
   "cell_type": "markdown",
   "metadata": {},
   "source": [
    "## Preprocessing"
   ]
  },
  {
   "cell_type": "markdown",
   "metadata": {},
   "source": [
    "### 좌우 공백 제거\n",
    "### 자음 or 모음만으로 구성된 경우 적절한 값으로 대체"
   ]
  },
  {
   "cell_type": "code",
   "execution_count": 29,
   "metadata": {},
   "outputs": [],
   "source": [
    "train2 = train.copy()\n",
    "dev2 = dev.copy()\n",
    "test2 = test.copy()"
   ]
  },
  {
   "cell_type": "code",
   "execution_count": 30,
   "metadata": {},
   "outputs": [
    {
     "name": "stdout",
     "output_type": "stream",
     "text": [
      "438.76511198522917\n",
      "87.39792887533113\n",
      "432.55911823647295\n",
      "81.70941883767534\n",
      "449.312625250501\n"
     ]
    }
   ],
   "source": [
    "print(train2.dialogue.apply(lambda x: len(x)).mean())\n",
    "print(train2.summary.apply(lambda x: len(x)).mean())\n",
    "print(dev2.dialogue.apply(lambda x: len(x)).mean())\n",
    "print(dev2.summary.apply(lambda x: len(x)).mean())\n",
    "print(test2.dialogue.apply(lambda x: len(x)).mean())"
   ]
  },
  {
   "cell_type": "code",
   "execution_count": 31,
   "metadata": {},
   "outputs": [],
   "source": [
    "## train ##\n",
    "\n",
    "# 좌우 공백 제거\n",
    "train['dialogue'] = train['dialogue'].apply(lambda x: x.strip())\n",
    "train['summary'] = train['summary'].apply(lambda x: x.strip())\n",
    "train['topic'] = train['topic'].apply(lambda x: x.strip())\n",
    "\n",
    "# 자음, 모음만으로 구성된 경우 적절한 값으로 대체\n",
    "train['dialogue'] = train['dialogue'].apply(lambda x: x.replace('제ㅏ', '제가'))\n",
    "train['dialogue'] = train['dialogue'].apply(lambda x: x.replace('척했ㄷ거든', '척했거든'))\n",
    "train['dialogue'] = train['dialogue'].apply(lambda x: x.replace('배경ㅇ로', '배경으로'))\n",
    "train['dialogue'] = train['dialogue'].apply(lambda x: x.replace('ㅋㅋ', '웃기다'))\n",
    "train['dialogue'] = train['dialogue'].apply(lambda x: x.replace('아직ㅍ알맞는', '아직 알맞는'))\n",
    "train['summary'] = train['summary'].apply(lambda x: x.replace('머라이어 ㅐ리', '머라이어 캐리'))\n",
    "\n",
    "\n",
    "## dev ##\n",
    "\n",
    "# 좌우 공백 제거\n",
    "dev['dialogue'] = dev['dialogue'].apply(lambda x: x.strip())\n",
    "dev['summary'] = dev['summary'].apply(lambda x: x.strip())\n",
    "dev['topic'] = dev['topic'].apply(lambda x: x.strip())\n",
    "\n",
    "## test ##\n",
    "\n",
    "# 좌우 공백 제거\n",
    "test['dialogue'] = test['dialogue'].apply(lambda x: x.strip())"
   ]
  },
  {
   "cell_type": "code",
   "execution_count": 32,
   "metadata": {},
   "outputs": [
    {
     "name": "stdout",
     "output_type": "stream",
     "text": [
      "0.034277916031101086\n",
      "0.008428995745362045\n",
      "0.05210420841683572\n",
      "0.008016032064119827\n",
      "0.04008016032065598\n"
     ]
    }
   ],
   "source": [
    "print(train2.dialogue.apply(lambda x: len(x)).mean() - train.dialogue.apply(lambda x: len(x)).mean())\n",
    "print(train2.summary.apply(lambda x: len(x)).mean() - train.summary.apply(lambda x: len(x)).mean())\n",
    "print(dev2.dialogue.apply(lambda x: len(x)).mean() - dev.dialogue.apply(lambda x: len(x)).mean())\n",
    "print(dev2.summary.apply(lambda x: len(x)).mean() - dev.summary.apply(lambda x: len(x)).mean())\n",
    "print(test2.dialogue.apply(lambda x: len(x)).mean() - test.dialogue.apply(lambda x: len(x)).mean())"
   ]
  },
  {
   "cell_type": "markdown",
   "metadata": {},
   "source": [
    "공백을 제거하자 length가 감소하는 것을 알 수 있다."
   ]
  },
  {
   "cell_type": "markdown",
   "metadata": {},
   "source": [
    "#### train special tokens 처리"
   ]
  },
  {
   "cell_type": "code",
   "execution_count": 33,
   "metadata": {},
   "outputs": [],
   "source": [
    "hash_list_1 = []\n",
    "hash_list_2 = []\n",
    "\n",
    "for i in range(len(train)):\n",
    "    hash_list_1.extend(re.findall(\"#(.*?)#\", train.iloc[i, 1]))\n",
    "    hash_list_2.extend(re.findall(\"#(.*?)#\", train.iloc[i, 2]))"
   ]
  },
  {
   "cell_type": "code",
   "execution_count": 34,
   "metadata": {},
   "outputs": [
    {
     "data": {
      "text/plain": [
       "{'',\n",
       " 'Address',\n",
       " 'CarNumber',\n",
       " 'CardNumber',\n",
       " 'DateOfBirth',\n",
       " 'Email',\n",
       " 'PassportNumber',\n",
       " 'Person',\n",
       " 'Person 2',\n",
       " 'Person1',\n",
       " 'Person2',\n",
       " 'Person3',\n",
       " 'Person4',\n",
       " 'Person5',\n",
       " 'Person6',\n",
       " 'Person7',\n",
       " 'PhoneNumber',\n",
       " 'PhoneNumber이고, 휴대폰 번호는 ',\n",
       " 'SSN'}"
      ]
     },
     "execution_count": 34,
     "metadata": {},
     "output_type": "execute_result"
    }
   ],
   "source": [
    "set(hash_list_1)"
   ]
  },
  {
   "cell_type": "code",
   "execution_count": 35,
   "metadata": {},
   "outputs": [
    {
     "data": {
      "text/plain": [
       "{'Person1',\n",
       " 'Person2',\n",
       " 'Person3',\n",
       " 'Person4',\n",
       " 'Person6',\n",
       " 'Person7',\n",
       " '에게 내일 아침 7시와 7시 30분에 ',\n",
       " '은 그 기간 동안 ',\n",
       " '은 시험에 대한 준비가 된 것 같다며 ',\n",
       " '이 '}"
      ]
     },
     "execution_count": 35,
     "metadata": {},
     "output_type": "execute_result"
    }
   ],
   "source": [
    "set(hash_list_2)"
   ]
  },
  {
   "cell_type": "code",
   "execution_count": 36,
   "metadata": {},
   "outputs": [
    {
     "name": "stdout",
     "output_type": "stream",
     "text": [
      "Found rows: [420, 1899, 4537, 11713]\n"
     ]
    }
   ],
   "source": [
    "# 찾고자 하는 해시태그\n",
    "search_tags = ['', 'Person', 'Person 2',\n",
    "               'PhoneNumber이고, 휴대폰 번호는 ']\n",
    "\n",
    "# 발견된 행 번호를 저장할 리스트\n",
    "found_rows = []\n",
    "\n",
    "for i in range(len(train)):\n",
    "    # 1번째 열에서 해시태그 찾기\n",
    "    hashtags_1 = re.findall(\"#(.*?)#\", train.iloc[i, 1])\n",
    "    # 2번째 열에서 해시태그 찾기\n",
    "    hashtags_2 = re.findall(\"#(.*?)#\", train.iloc[i, 2])\n",
    "    \n",
    "    # 빈 문자열이나 'Person'이 포함되어 있는지 확인\n",
    "    if any(tag in search_tags for tag in hashtags_1) or any(tag in search_tags for tag in hashtags_2):\n",
    "        # 조건을 만족하는 경우 행 번호 저장\n",
    "        found_rows.append(i)\n",
    "\n",
    "# 결과 출력\n",
    "print(\"Found rows:\", found_rows)"
   ]
  },
  {
   "cell_type": "code",
   "execution_count": 37,
   "metadata": {},
   "outputs": [],
   "source": [
    "train.iloc[420, 1] = re.sub(r'(?<!\\#)#PhoneNumber(?!\\#)', '#PhoneNumber#', train.iloc[420, 1])\n",
    "train.iloc[1899, 1] = re.sub(r'#Person#', '#Person2#', train.iloc[1899, 1])\n",
    "train.iloc[4537, 1] = re.sub(r'#Person 2#', '#Person2#', train.iloc[4537, 1])\n",
    "train.iloc[11713, 1] = re.sub(r'##Person1#', '#Person1#', train.iloc[11713, 1])"
   ]
  },
  {
   "cell_type": "code",
   "execution_count": 38,
   "metadata": {},
   "outputs": [
    {
     "name": "stdout",
     "output_type": "stream",
     "text": [
      "Found rows: [1030, 1133, 1199]\n"
     ]
    }
   ],
   "source": [
    "# 찾고자 하는 해시태그\n",
    "search_tags = ['에게 내일 아침 7시와 7시 30분에 ',\n",
    "               '은 그 기간 동안 ',\n",
    "               '은 시험에 대한 준비가 된 것 같다며 ',\n",
    "               '이 ']\n",
    "\n",
    "# 발견된 행 번호를 저장할 리스트\n",
    "found_rows = []\n",
    "\n",
    "for i in range(len(train)):\n",
    "    # 1번째 열에서 해시태그 찾기\n",
    "    hashtags_1 = re.findall(\"#(.*?)#\", train.iloc[i, 1])\n",
    "    # 2번째 열에서 해시태그 찾기\n",
    "    hashtags_2 = re.findall(\"#(.*?)#\", train.iloc[i, 2])\n",
    "    \n",
    "    # 빈 문자열이나 'Person'이 포함되어 있는지 확인\n",
    "    if any(tag in search_tags for tag in hashtags_1) or any(tag in search_tags for tag in hashtags_2):\n",
    "        # 조건을 만족하는 경우 행 번호 저장\n",
    "        found_rows.append(i)\n",
    "\n",
    "# 결과 출력\n",
    "print(\"Found rows:\", found_rows)"
   ]
  },
  {
   "cell_type": "code",
   "execution_count": 39,
   "metadata": {},
   "outputs": [],
   "source": [
    "train.iloc[1030, 2] = re.sub(r'사람2#', '#Person2#', train.iloc[1030, 2])\n",
    "train.iloc[1133, 2] = re.sub(r'사람2#', '#Person2#', train.iloc[1133, 2])\n",
    "train.iloc[1199, 2] = re.sub(r'사람1#', '#Person1#', train.iloc[1199, 2])"
   ]
  },
  {
   "cell_type": "markdown",
   "metadata": {},
   "source": [
    "#### dev special tokens 처리"
   ]
  },
  {
   "cell_type": "code",
   "execution_count": 40,
   "metadata": {},
   "outputs": [],
   "source": [
    "hash_list_3 = []\n",
    "hash_list_4 = []\n",
    "\n",
    "for i in range(len(dev)):\n",
    "    hash_list_3.extend(re.findall(\"#(.*?)#\", dev.iloc[i, 1]))\n",
    "    hash_list_4.extend(re.findall(\"#(.*?)#\", dev.iloc[i, 2]))"
   ]
  },
  {
   "cell_type": "code",
   "execution_count": 41,
   "metadata": {},
   "outputs": [
    {
     "data": {
      "text/plain": [
       "{'Address',\n",
       " 'DateOfBirth',\n",
       " 'Person1',\n",
       " 'Person2',\n",
       " 'Person3',\n",
       " 'Person4',\n",
       " 'PhoneNumber'}"
      ]
     },
     "execution_count": 41,
     "metadata": {},
     "output_type": "execute_result"
    }
   ],
   "source": [
    "set(hash_list_3) # dialogue는 괜찮음"
   ]
  },
  {
   "cell_type": "code",
   "execution_count": 42,
   "metadata": {},
   "outputs": [
    {
     "data": {
      "text/plain": [
       "{'Person1', 'Person2', 'Person3', '사람1'}"
      ]
     },
     "execution_count": 42,
     "metadata": {},
     "output_type": "execute_result"
    }
   ],
   "source": [
    "set(hash_list_4) # summary는 수정 필요함"
   ]
  },
  {
   "cell_type": "code",
   "execution_count": 43,
   "metadata": {},
   "outputs": [
    {
     "name": "stdout",
     "output_type": "stream",
     "text": [
      "Found rows: [43]\n"
     ]
    }
   ],
   "source": [
    "# 찾고자 하는 해시태그\n",
    "search_tags = ['사람1']\n",
    "\n",
    "# 발견된 행 번호를 저장할 리스트\n",
    "found_rows = []\n",
    "\n",
    "for i in range(len(dev)):\n",
    "    # 1번째 열에서 해시태그 찾기\n",
    "    hashtags_3 = re.findall(\"#(.*?)#\", dev.iloc[i, 1])\n",
    "    # 2번째 열에서 해시태그 찾기\n",
    "    hashtags_4 = re.findall(\"#(.*?)#\", dev.iloc[i, 2])\n",
    "    \n",
    "    # 빈 문자열이나 'Person'이 포함되어 있는지 확인\n",
    "    if any(tag in search_tags for tag in hashtags_3) or any(tag in search_tags for tag in hashtags_4):\n",
    "        # 조건을 만족하는 경우 행 번호 저장\n",
    "        found_rows.append(i)\n",
    "\n",
    "# 결과 출력\n",
    "print(\"Found rows:\", found_rows)"
   ]
  },
  {
   "cell_type": "code",
   "execution_count": 44,
   "metadata": {},
   "outputs": [],
   "source": [
    "dev.iloc[43, 2] = re.sub(r'#사람1#', '#Person1#', dev.iloc[43, 2])"
   ]
  },
  {
   "cell_type": "markdown",
   "metadata": {},
   "source": [
    "#### test는 special tokens가 잘 처리 되어 있었음"
   ]
  },
  {
   "cell_type": "code",
   "execution_count": 45,
   "metadata": {},
   "outputs": [
    {
     "data": {
      "text/html": [
       "<div>\n",
       "<style scoped>\n",
       "    .dataframe tbody tr th:only-of-type {\n",
       "        vertical-align: middle;\n",
       "    }\n",
       "\n",
       "    .dataframe tbody tr th {\n",
       "        vertical-align: top;\n",
       "    }\n",
       "\n",
       "    .dataframe thead th {\n",
       "        text-align: right;\n",
       "    }\n",
       "</style>\n",
       "<table border=\"1\" class=\"dataframe\">\n",
       "  <thead>\n",
       "    <tr style=\"text-align: right;\">\n",
       "      <th></th>\n",
       "      <th>fname</th>\n",
       "      <th>dialogue</th>\n",
       "    </tr>\n",
       "  </thead>\n",
       "  <tbody>\n",
       "    <tr>\n",
       "      <th>0</th>\n",
       "      <td>test_0</td>\n",
       "      <td>#Person1#: 더슨 씨, 받아쓰기 좀 해주세요. \\n#Person2#: 네, ...</td>\n",
       "    </tr>\n",
       "    <tr>\n",
       "      <th>1</th>\n",
       "      <td>test_1</td>\n",
       "      <td>#Person1#: 드디어 왔네! 왜 그렇게 오래 걸렸어?\\n#Person2#: 또...</td>\n",
       "    </tr>\n",
       "    <tr>\n",
       "      <th>2</th>\n",
       "      <td>test_2</td>\n",
       "      <td>#Person1#: 케이트, 무슨 일이 일어났는지 너는 믿지 못할거야. \\n#Per...</td>\n",
       "    </tr>\n",
       "    <tr>\n",
       "      <th>3</th>\n",
       "      <td>test_3</td>\n",
       "      <td>#Person1#: 생일 축하해, 이건 너를 위한 거야, 브라이언.\\n#Person...</td>\n",
       "    </tr>\n",
       "    <tr>\n",
       "      <th>4</th>\n",
       "      <td>test_4</td>\n",
       "      <td>#Person1#: 이 올림픽 공원이 정말 크네요!\\n#Person2#: 네. 지금...</td>\n",
       "    </tr>\n",
       "    <tr>\n",
       "      <th>...</th>\n",
       "      <td>...</td>\n",
       "      <td>...</td>\n",
       "    </tr>\n",
       "    <tr>\n",
       "      <th>494</th>\n",
       "      <td>test_495</td>\n",
       "      <td>#Person1#: 헤이, 찰리, 학교 끝나고 우리 집에 와서 나랑 비디오 게임 할...</td>\n",
       "    </tr>\n",
       "    <tr>\n",
       "      <th>495</th>\n",
       "      <td>test_496</td>\n",
       "      <td>#Person1#: 어떻게 컨트리 음악에 관심을 가지게 되었나요?\\r\\n#Perso...</td>\n",
       "    </tr>\n",
       "    <tr>\n",
       "      <th>496</th>\n",
       "      <td>test_497</td>\n",
       "      <td>#Person1#: 실례합니다, 앨리스. 이곳을 사용해본 적이 없는데, 기계를 어떻...</td>\n",
       "    </tr>\n",
       "    <tr>\n",
       "      <th>497</th>\n",
       "      <td>test_498</td>\n",
       "      <td>#Person1#: 매튜? 안녕!\\r\\n#Person2#: 스티브! 오랜만이네! 얼...</td>\n",
       "    </tr>\n",
       "    <tr>\n",
       "      <th>498</th>\n",
       "      <td>test_499</td>\n",
       "      <td>#Person1#: 헤이, 벳시, 좋은 소식 들었어?\\n#Person2#: 아니, ...</td>\n",
       "    </tr>\n",
       "  </tbody>\n",
       "</table>\n",
       "<p>499 rows × 2 columns</p>\n",
       "</div>"
      ],
      "text/plain": [
       "        fname                                           dialogue\n",
       "0      test_0  #Person1#: 더슨 씨, 받아쓰기 좀 해주세요. \\n#Person2#: 네, ...\n",
       "1      test_1  #Person1#: 드디어 왔네! 왜 그렇게 오래 걸렸어?\\n#Person2#: 또...\n",
       "2      test_2  #Person1#: 케이트, 무슨 일이 일어났는지 너는 믿지 못할거야. \\n#Per...\n",
       "3      test_3  #Person1#: 생일 축하해, 이건 너를 위한 거야, 브라이언.\\n#Person...\n",
       "4      test_4  #Person1#: 이 올림픽 공원이 정말 크네요!\\n#Person2#: 네. 지금...\n",
       "..        ...                                                ...\n",
       "494  test_495  #Person1#: 헤이, 찰리, 학교 끝나고 우리 집에 와서 나랑 비디오 게임 할...\n",
       "495  test_496  #Person1#: 어떻게 컨트리 음악에 관심을 가지게 되었나요?\\r\\n#Perso...\n",
       "496  test_497  #Person1#: 실례합니다, 앨리스. 이곳을 사용해본 적이 없는데, 기계를 어떻...\n",
       "497  test_498  #Person1#: 매튜? 안녕!\\r\\n#Person2#: 스티브! 오랜만이네! 얼...\n",
       "498  test_499  #Person1#: 헤이, 벳시, 좋은 소식 들었어?\\n#Person2#: 아니, ...\n",
       "\n",
       "[499 rows x 2 columns]"
      ]
     },
     "execution_count": 45,
     "metadata": {},
     "output_type": "execute_result"
    }
   ],
   "source": [
    "test"
   ]
  },
  {
   "cell_type": "code",
   "execution_count": 46,
   "metadata": {},
   "outputs": [],
   "source": [
    "hash_list_5 = []\n",
    "\n",
    "for i in range(len(dev)):\n",
    "    hash_list_5.extend(re.findall(\"#(.*?)#\", test.iloc[i, 1]))"
   ]
  },
  {
   "cell_type": "code",
   "execution_count": 47,
   "metadata": {},
   "outputs": [
    {
     "data": {
      "text/plain": [
       "{'Address', 'PassportNumber', 'Person1', 'Person2', 'Person3', 'PhoneNumber'}"
      ]
     },
     "execution_count": 47,
     "metadata": {},
     "output_type": "execute_result"
    }
   ],
   "source": [
    "set(hash_list_5)"
   ]
  },
  {
   "cell_type": "code",
   "execution_count": 48,
   "metadata": {},
   "outputs": [],
   "source": [
    "train.to_csv('../data/train.csv', index=False)\n",
    "dev.to_csv('../data/dev.csv', index=False)\n",
    "test.to_csv('../data/test.csv', index=False)"
   ]
  }
 ],
 "metadata": {
  "kernelspec": {
   "display_name": "base",
   "language": "python",
   "name": "python3"
  },
  "language_info": {
   "codemirror_mode": {
    "name": "ipython",
    "version": 3
   },
   "file_extension": ".py",
   "mimetype": "text/x-python",
   "name": "python",
   "nbconvert_exporter": "python",
   "pygments_lexer": "ipython3",
   "version": "3.10.13"
  }
 },
 "nbformat": 4,
 "nbformat_minor": 2
}
