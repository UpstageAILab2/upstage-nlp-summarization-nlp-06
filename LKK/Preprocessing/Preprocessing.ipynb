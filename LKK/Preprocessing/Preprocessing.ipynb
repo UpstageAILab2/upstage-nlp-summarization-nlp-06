{
 "cells": [
  {
   "cell_type": "markdown",
   "metadata": {},
   "source": [
    "# Data Preprocessing"
   ]
  },
  {
   "cell_type": "markdown",
   "metadata": {},
   "source": [
    "## Library"
   ]
  },
  {
   "cell_type": "code",
   "execution_count": 345,
   "metadata": {},
   "outputs": [],
   "source": [
    "import pandas as pd\n",
    "import re"
   ]
  },
  {
   "cell_type": "markdown",
   "metadata": {},
   "source": [
    "## Load data"
   ]
  },
  {
   "cell_type": "code",
   "execution_count": 346,
   "metadata": {},
   "outputs": [],
   "source": [
    "train = pd.read_csv('../data/train.csv')\n",
    "dev = pd.read_csv('../data/dev.csv')\n",
    "test = pd.read_csv('../data/test.csv')"
   ]
  },
  {
   "cell_type": "markdown",
   "metadata": {},
   "source": [
    "## Preprocessing"
   ]
  },
  {
   "cell_type": "markdown",
   "metadata": {},
   "source": [
    "### 좌우 공백 제거\n",
    "### 자음 or 모음만으로 구성된 경우 적절한 값으로 대체"
   ]
  },
  {
   "cell_type": "code",
   "execution_count": 347,
   "metadata": {},
   "outputs": [],
   "source": [
    "train2 = train.copy()\n",
    "dev2 = dev.copy()\n",
    "test2 = test.copy()"
   ]
  },
  {
   "cell_type": "code",
   "execution_count": 348,
   "metadata": {},
   "outputs": [
    {
     "name": "stdout",
     "output_type": "stream",
     "text": [
      "438.73083406919807\n",
      "87.39070402183512\n",
      "432.5070140280561\n",
      "81.70941883767534\n",
      "449.27254509018036\n"
     ]
    }
   ],
   "source": [
    "print(train2.dialogue.apply(lambda x: len(x)).mean())\n",
    "print(train2.summary.apply(lambda x: len(x)).mean())\n",
    "print(dev2.dialogue.apply(lambda x: len(x)).mean())\n",
    "print(dev2.summary.apply(lambda x: len(x)).mean())\n",
    "print(test2.dialogue.apply(lambda x: len(x)).mean())"
   ]
  },
  {
   "cell_type": "code",
   "execution_count": 349,
   "metadata": {},
   "outputs": [],
   "source": [
    "## train ##\n",
    "\n",
    "# 좌우 공백 제거\n",
    "train['dialogue'] = train['dialogue'].apply(lambda x: x.strip())\n",
    "train['summary'] = train['summary'].apply(lambda x: x.strip())\n",
    "train['topic'] = train['topic'].apply(lambda x: x.strip())\n",
    "\n",
    "# 자음, 모음만으로 구성된 경우 적절한 값으로 대체\n",
    "train['dialogue'] = train['dialogue'].apply(lambda x: x.replace('제ㅏ', '제가'))\n",
    "train['dialogue'] = train['dialogue'].apply(lambda x: x.replace('척했ㄷ거든', '척했거든'))\n",
    "train['dialogue'] = train['dialogue'].apply(lambda x: x.replace('배경ㅇ로', '배경으로'))\n",
    "train['dialogue'] = train['dialogue'].apply(lambda x: x.replace('ㅋㅋ', '웃기다'))\n",
    "train['dialogue'] = train['dialogue'].apply(lambda x: x.replace('아직ㅍ알맞는', '아직 알맞는'))\n",
    "train['summary'] = train['summary'].apply(lambda x: x.replace('머라이어 ㅐ리', '머라이어 캐리'))\n",
    "\n",
    "\n",
    "## dev ##\n",
    "\n",
    "# 좌우 공백 제거\n",
    "dev['dialogue'] = dev['dialogue'].apply(lambda x: x.strip())\n",
    "dev['summary'] = dev['summary'].apply(lambda x: x.strip())\n",
    "dev['topic'] = dev['topic'].apply(lambda x: x.strip())\n",
    "\n",
    "## test ##\n",
    "\n",
    "# 좌우 공백 제거\n",
    "test['dialogue'] = test['dialogue'].apply(lambda x: x.strip())"
   ]
  },
  {
   "cell_type": "code",
   "execution_count": 350,
   "metadata": {},
   "outputs": [
    {
     "name": "stdout",
     "output_type": "stream",
     "text": [
      "0.0\n",
      "0.0\n",
      "0.0\n",
      "0.0\n",
      "0.0\n"
     ]
    }
   ],
   "source": [
    "print(train2.dialogue.apply(lambda x: len(x)).mean() - train.dialogue.apply(lambda x: len(x)).mean())\n",
    "print(train2.summary.apply(lambda x: len(x)).mean() - train.summary.apply(lambda x: len(x)).mean())\n",
    "print(dev2.dialogue.apply(lambda x: len(x)).mean() - dev.dialogue.apply(lambda x: len(x)).mean())\n",
    "print(dev2.summary.apply(lambda x: len(x)).mean() - dev.summary.apply(lambda x: len(x)).mean())\n",
    "print(test2.dialogue.apply(lambda x: len(x)).mean() - test.dialogue.apply(lambda x: len(x)).mean())"
   ]
  },
  {
   "cell_type": "markdown",
   "metadata": {},
   "source": [
    "공백을 제거하자 length가 감소하는 것을 알 수 있다."
   ]
  },
  {
   "cell_type": "markdown",
   "metadata": {},
   "source": [
    "#### train special tokens 처리"
   ]
  },
  {
   "cell_type": "code",
   "execution_count": 351,
   "metadata": {},
   "outputs": [],
   "source": [
    "hash_list_1 = []\n",
    "hash_list_2 = []\n",
    "\n",
    "for i in range(len(train)):\n",
    "    hash_list_1.extend(re.findall(\"#(.*?)#\", train.iloc[i, 1]))\n",
    "    hash_list_2.extend(re.findall(\"#(.*?)#\", train.iloc[i, 2]))"
   ]
  },
  {
   "cell_type": "code",
   "execution_count": 352,
   "metadata": {},
   "outputs": [
    {
     "data": {
      "text/plain": [
       "{'Address',\n",
       " 'CarNumber',\n",
       " 'CardNumber',\n",
       " 'DateOfBirth',\n",
       " 'Email',\n",
       " 'PassportNumber',\n",
       " 'Person1',\n",
       " 'Person2',\n",
       " 'Person3',\n",
       " 'Person4',\n",
       " 'Person5',\n",
       " 'Person6',\n",
       " 'Person7',\n",
       " 'PhoneNumber',\n",
       " 'SSN'}"
      ]
     },
     "execution_count": 352,
     "metadata": {},
     "output_type": "execute_result"
    }
   ],
   "source": [
    "set(hash_list_1)"
   ]
  },
  {
   "cell_type": "code",
   "execution_count": 353,
   "metadata": {},
   "outputs": [
    {
     "data": {
      "text/plain": [
       "{'Person1', 'Person2', 'Person3', 'Person4', 'Person6', 'Person7'}"
      ]
     },
     "execution_count": 353,
     "metadata": {},
     "output_type": "execute_result"
    }
   ],
   "source": [
    "set(hash_list_2)"
   ]
  },
  {
   "cell_type": "code",
   "execution_count": 354,
   "metadata": {},
   "outputs": [
    {
     "name": "stdout",
     "output_type": "stream",
     "text": [
      "Found rows: []\n"
     ]
    }
   ],
   "source": [
    "# 찾고자 하는 해시태그\n",
    "search_tags = ['', 'Person', 'Person 2',\n",
    "               'PhoneNumber이고, 휴대폰 번호는 ']\n",
    "\n",
    "# 발견된 행 번호를 저장할 리스트\n",
    "found_rows = []\n",
    "\n",
    "for i in range(len(train)):\n",
    "    # 1번째 열에서 해시태그 찾기\n",
    "    hashtags_1 = re.findall(\"#(.*?)#\", train.iloc[i, 1])\n",
    "    # 2번째 열에서 해시태그 찾기\n",
    "    hashtags_2 = re.findall(\"#(.*?)#\", train.iloc[i, 2])\n",
    "    \n",
    "    # 빈 문자열이나 'Person'이 포함되어 있는지 확인\n",
    "    if any(tag in search_tags for tag in hashtags_1) or any(tag in search_tags for tag in hashtags_2):\n",
    "        # 조건을 만족하는 경우 행 번호 저장\n",
    "        found_rows.append(i)\n",
    "\n",
    "# 결과 출력\n",
    "print(\"Found rows:\", found_rows)"
   ]
  },
  {
   "cell_type": "code",
   "execution_count": 355,
   "metadata": {},
   "outputs": [],
   "source": [
    "train.iloc[420, 1] = re.sub(r'(?<!\\#)#PhoneNumber(?!\\#)', '#PhoneNumber#', train.iloc[420, 1])\n",
    "train.iloc[1899, 1] = re.sub(r'#Person#', '#Person2#', train.iloc[1899, 1])\n",
    "train.iloc[4537, 1] = re.sub(r'#Person 2#', '#Person2#', train.iloc[4537, 1])\n",
    "train.iloc[11713, 1] = re.sub(r'##Person1#', '#Person1#', train.iloc[11713, 1])"
   ]
  },
  {
   "cell_type": "code",
   "execution_count": 356,
   "metadata": {},
   "outputs": [
    {
     "name": "stdout",
     "output_type": "stream",
     "text": [
      "Found rows: []\n"
     ]
    }
   ],
   "source": [
    "# 찾고자 하는 해시태그\n",
    "search_tags = ['에게 내일 아침 7시와 7시 30분에 ',\n",
    "               '은 그 기간 동안 ',\n",
    "               '은 시험에 대한 준비가 된 것 같다며 ',\n",
    "               '이 ']\n",
    "\n",
    "# 발견된 행 번호를 저장할 리스트\n",
    "found_rows = []\n",
    "\n",
    "for i in range(len(train)):\n",
    "    # 1번째 열에서 해시태그 찾기\n",
    "    hashtags_1 = re.findall(\"#(.*?)#\", train.iloc[i, 1])\n",
    "    # 2번째 열에서 해시태그 찾기\n",
    "    hashtags_2 = re.findall(\"#(.*?)#\", train.iloc[i, 2])\n",
    "    \n",
    "    # 빈 문자열이나 'Person'이 포함되어 있는지 확인\n",
    "    if any(tag in search_tags for tag in hashtags_1) or any(tag in search_tags for tag in hashtags_2):\n",
    "        # 조건을 만족하는 경우 행 번호 저장\n",
    "        found_rows.append(i)\n",
    "\n",
    "# 결과 출력\n",
    "print(\"Found rows:\", found_rows)"
   ]
  },
  {
   "cell_type": "code",
   "execution_count": 357,
   "metadata": {},
   "outputs": [],
   "source": [
    "train.iloc[1030, 2] = re.sub(r'사람2#', '#Person2#', train.iloc[1030, 2])\n",
    "train.iloc[1133, 2] = re.sub(r'사람2#', '#Person2#', train.iloc[1133, 2])\n",
    "train.iloc[1199, 2] = re.sub(r'사람1#', '#Person1#', train.iloc[1199, 2])"
   ]
  },
  {
   "cell_type": "markdown",
   "metadata": {},
   "source": [
    "#### dev special tokens 처리"
   ]
  },
  {
   "cell_type": "code",
   "execution_count": 358,
   "metadata": {},
   "outputs": [],
   "source": [
    "hash_list_3 = []\n",
    "hash_list_4 = []\n",
    "\n",
    "for i in range(len(dev)):\n",
    "    hash_list_3.extend(re.findall(\"#(.*?)#\", dev.iloc[i, 1]))\n",
    "    hash_list_4.extend(re.findall(\"#(.*?)#\", dev.iloc[i, 2]))"
   ]
  },
  {
   "cell_type": "code",
   "execution_count": 359,
   "metadata": {},
   "outputs": [
    {
     "data": {
      "text/plain": [
       "{'Address',\n",
       " 'DateOfBirth',\n",
       " 'Person1',\n",
       " 'Person2',\n",
       " 'Person3',\n",
       " 'Person4',\n",
       " 'PhoneNumber'}"
      ]
     },
     "execution_count": 359,
     "metadata": {},
     "output_type": "execute_result"
    }
   ],
   "source": [
    "set(hash_list_3) # dialogue는 괜찮음"
   ]
  },
  {
   "cell_type": "code",
   "execution_count": 360,
   "metadata": {},
   "outputs": [
    {
     "data": {
      "text/plain": [
       "{'Person1', 'Person2', 'Person3'}"
      ]
     },
     "execution_count": 360,
     "metadata": {},
     "output_type": "execute_result"
    }
   ],
   "source": [
    "set(hash_list_4) # summary는 수정 필요함"
   ]
  },
  {
   "cell_type": "code",
   "execution_count": 361,
   "metadata": {},
   "outputs": [
    {
     "name": "stdout",
     "output_type": "stream",
     "text": [
      "Found rows: []\n"
     ]
    }
   ],
   "source": [
    "# 찾고자 하는 해시태그\n",
    "search_tags = ['사람1']\n",
    "\n",
    "# 발견된 행 번호를 저장할 리스트\n",
    "found_rows = []\n",
    "\n",
    "for i in range(len(dev)):\n",
    "    # 1번째 열에서 해시태그 찾기\n",
    "    hashtags_3 = re.findall(\"#(.*?)#\", dev.iloc[i, 1])\n",
    "    # 2번째 열에서 해시태그 찾기\n",
    "    hashtags_4 = re.findall(\"#(.*?)#\", dev.iloc[i, 2])\n",
    "    \n",
    "    # 빈 문자열이나 'Person'이 포함되어 있는지 확인\n",
    "    if any(tag in search_tags for tag in hashtags_3) or any(tag in search_tags for tag in hashtags_4):\n",
    "        # 조건을 만족하는 경우 행 번호 저장\n",
    "        found_rows.append(i)\n",
    "\n",
    "# 결과 출력\n",
    "print(\"Found rows:\", found_rows)"
   ]
  },
  {
   "cell_type": "code",
   "execution_count": 362,
   "metadata": {},
   "outputs": [],
   "source": [
    "dev.iloc[43, 2] = re.sub(r'#사람1#', '#Person1#', dev.iloc[43, 2])"
   ]
  },
  {
   "cell_type": "markdown",
   "metadata": {},
   "source": [
    "#### test는 special tokens가 잘 처리 되어 있었음"
   ]
  },
  {
   "cell_type": "code",
   "execution_count": 363,
   "metadata": {},
   "outputs": [
    {
     "data": {
      "text/html": [
       "<div>\n",
       "<style scoped>\n",
       "    .dataframe tbody tr th:only-of-type {\n",
       "        vertical-align: middle;\n",
       "    }\n",
       "\n",
       "    .dataframe tbody tr th {\n",
       "        vertical-align: top;\n",
       "    }\n",
       "\n",
       "    .dataframe thead th {\n",
       "        text-align: right;\n",
       "    }\n",
       "</style>\n",
       "<table border=\"1\" class=\"dataframe\">\n",
       "  <thead>\n",
       "    <tr style=\"text-align: right;\">\n",
       "      <th></th>\n",
       "      <th>fname</th>\n",
       "      <th>dialogue</th>\n",
       "    </tr>\n",
       "  </thead>\n",
       "  <tbody>\n",
       "    <tr>\n",
       "      <th>0</th>\n",
       "      <td>test_0</td>\n",
       "      <td>#Person1#: 더슨 씨, 받아쓰기 좀 해주세요. \\n#Person2#: 네, ...</td>\n",
       "    </tr>\n",
       "    <tr>\n",
       "      <th>1</th>\n",
       "      <td>test_1</td>\n",
       "      <td>#Person1#: 드디어 왔네! 왜 그렇게 오래 걸렸어?\\n#Person2#: 또...</td>\n",
       "    </tr>\n",
       "    <tr>\n",
       "      <th>2</th>\n",
       "      <td>test_2</td>\n",
       "      <td>#Person1#: 케이트, 무슨 일이 일어났는지 너는 믿지 못할거야. \\n#Per...</td>\n",
       "    </tr>\n",
       "    <tr>\n",
       "      <th>3</th>\n",
       "      <td>test_3</td>\n",
       "      <td>#Person1#: 생일 축하해, 이건 너를 위한 거야, 브라이언.\\n#Person...</td>\n",
       "    </tr>\n",
       "    <tr>\n",
       "      <th>4</th>\n",
       "      <td>test_4</td>\n",
       "      <td>#Person1#: 이 올림픽 공원이 정말 크네요!\\n#Person2#: 네. 지금...</td>\n",
       "    </tr>\n",
       "    <tr>\n",
       "      <th>...</th>\n",
       "      <td>...</td>\n",
       "      <td>...</td>\n",
       "    </tr>\n",
       "    <tr>\n",
       "      <th>494</th>\n",
       "      <td>test_495</td>\n",
       "      <td>#Person1#: 헤이, 찰리, 학교 끝나고 우리 집에 와서 나랑 비디오 게임 할...</td>\n",
       "    </tr>\n",
       "    <tr>\n",
       "      <th>495</th>\n",
       "      <td>test_496</td>\n",
       "      <td>#Person1#: 어떻게 컨트리 음악에 관심을 가지게 되었나요?\\r\\n#Perso...</td>\n",
       "    </tr>\n",
       "    <tr>\n",
       "      <th>496</th>\n",
       "      <td>test_497</td>\n",
       "      <td>#Person1#: 실례합니다, 앨리스. 이곳을 사용해본 적이 없는데, 기계를 어떻...</td>\n",
       "    </tr>\n",
       "    <tr>\n",
       "      <th>497</th>\n",
       "      <td>test_498</td>\n",
       "      <td>#Person1#: 매튜? 안녕!\\r\\n#Person2#: 스티브! 오랜만이네! 얼...</td>\n",
       "    </tr>\n",
       "    <tr>\n",
       "      <th>498</th>\n",
       "      <td>test_499</td>\n",
       "      <td>#Person1#: 헤이, 벳시, 좋은 소식 들었어?\\n#Person2#: 아니, ...</td>\n",
       "    </tr>\n",
       "  </tbody>\n",
       "</table>\n",
       "<p>499 rows × 2 columns</p>\n",
       "</div>"
      ],
      "text/plain": [
       "        fname                                           dialogue\n",
       "0      test_0  #Person1#: 더슨 씨, 받아쓰기 좀 해주세요. \\n#Person2#: 네, ...\n",
       "1      test_1  #Person1#: 드디어 왔네! 왜 그렇게 오래 걸렸어?\\n#Person2#: 또...\n",
       "2      test_2  #Person1#: 케이트, 무슨 일이 일어났는지 너는 믿지 못할거야. \\n#Per...\n",
       "3      test_3  #Person1#: 생일 축하해, 이건 너를 위한 거야, 브라이언.\\n#Person...\n",
       "4      test_4  #Person1#: 이 올림픽 공원이 정말 크네요!\\n#Person2#: 네. 지금...\n",
       "..        ...                                                ...\n",
       "494  test_495  #Person1#: 헤이, 찰리, 학교 끝나고 우리 집에 와서 나랑 비디오 게임 할...\n",
       "495  test_496  #Person1#: 어떻게 컨트리 음악에 관심을 가지게 되었나요?\\r\\n#Perso...\n",
       "496  test_497  #Person1#: 실례합니다, 앨리스. 이곳을 사용해본 적이 없는데, 기계를 어떻...\n",
       "497  test_498  #Person1#: 매튜? 안녕!\\r\\n#Person2#: 스티브! 오랜만이네! 얼...\n",
       "498  test_499  #Person1#: 헤이, 벳시, 좋은 소식 들었어?\\n#Person2#: 아니, ...\n",
       "\n",
       "[499 rows x 2 columns]"
      ]
     },
     "execution_count": 363,
     "metadata": {},
     "output_type": "execute_result"
    }
   ],
   "source": [
    "test"
   ]
  },
  {
   "cell_type": "code",
   "execution_count": 364,
   "metadata": {},
   "outputs": [],
   "source": [
    "hash_list_5 = []\n",
    "\n",
    "for i in range(len(dev)):\n",
    "    hash_list_5.extend(re.findall(\"#(.*?)#\", test.iloc[i, 1]))"
   ]
  },
  {
   "cell_type": "code",
   "execution_count": 365,
   "metadata": {},
   "outputs": [
    {
     "data": {
      "text/plain": [
       "{'Address', 'PassportNumber', 'Person1', 'Person2', 'Person3', 'PhoneNumber'}"
      ]
     },
     "execution_count": 365,
     "metadata": {},
     "output_type": "execute_result"
    }
   ],
   "source": [
    "set(hash_list_5)"
   ]
  },
  {
   "cell_type": "code",
   "execution_count": 366,
   "metadata": {},
   "outputs": [
    {
     "name": "stdout",
     "output_type": "stream",
     "text": [
      "Index 345:\n",
      "  Consecutive speakers: [(12, 13, '#Person1#'), (13, 14, '#Person1#')]\n",
      "Index 484:\n",
      "  Consecutive speakers: [(4, 5, '#Person1#')]\n",
      "Index 756:\n",
      "  Consecutive speakers: [(0, 1, '#Person1#')]\n",
      "Index 839:\n",
      "  Consecutive speakers: [(7, 8, '#Person2#')]\n",
      "  Misspelled speakers: ['사람1']\n",
      "Index 872:\n",
      "  Consecutive speakers: [(2, 3, '#Person1#'), (3, 4, '#Person1#')]\n",
      "Index 925:\n",
      "  Consecutive speakers: [(2, 3, '#Person1#')]\n",
      "Index 982:\n",
      "  Consecutive speakers: [(1, 2, '#Person2#')]\n",
      "Index 1033:\n",
      "  Consecutive speakers: [(3, 4, '#Person2#')]\n",
      "Index 1125:\n",
      "  Misspelled speakers: ['사람1']\n",
      "Index 1142:\n",
      "  Misspelled speakers: ['사람1']\n",
      "Index 1220:\n",
      "  Consecutive speakers: [(3, 4, '#Person2#'), (4, 5, '#Person2#')]\n",
      "Index 1236:\n",
      "  Consecutive speakers: [(6, 7, '#Person1#')]\n",
      "Index 1278:\n",
      "  Consecutive speakers: [(2, 3, '#Person1#')]\n",
      "Index 1283:\n",
      "  Consecutive speakers: [(1, 2, '#Person2#')]\n",
      "Index 1294:\n",
      "  Consecutive speakers: [(4, 5, '#Person1#')]\n",
      "Index 1301:\n",
      "  Consecutive speakers: [(5, 6, '#Person2#')]\n",
      "Index 1302:\n",
      "  Consecutive speakers: [(3, 4, '#Person2#')]\n",
      "Index 1306:\n",
      "  Consecutive speakers: [(0, 1, '#Person1#')]\n",
      "Index 1322:\n",
      "  Consecutive speakers: [(3, 4, '#Person2#')]\n",
      "Index 1419:\n",
      "  Consecutive speakers: [(6, 7, '#Person1#')]\n",
      "Index 1424:\n",
      "  Consecutive speakers: [(9, 10, '#Person2#')]\n",
      "Index 1440:\n",
      "  Consecutive speakers: [(1, 2, '#Person2#')]\n",
      "Index 1475:\n",
      "  Consecutive speakers: [(5, 6, '#Person2#')]\n",
      "Index 1497:\n",
      "  Consecutive speakers: [(1, 2, '#Person2#')]\n",
      "Index 1547:\n",
      "  Consecutive speakers: [(6, 7, '#Person1#')]\n",
      "Index 1791:\n",
      "  Consecutive speakers: [(12, 13, '#Person1#')]\n",
      "Index 3628:\n",
      "  Consecutive speakers: [(7, 8, '#Person2#')]\n",
      "Index 5441:\n",
      "  Consecutive speakers: [(6, 7, '#Person1#')]\n",
      "Index 6759:\n",
      "  Consecutive speakers: [(9, 10, '#Person2#')]\n",
      "Index 6799:\n",
      "  Consecutive speakers: [(0, 1, '#Person1#')]\n",
      "Index 8645:\n",
      "  Consecutive speakers: [(9, 10, '#Person2#'), (10, 11, '#Person2#')]\n",
      "Index 9898:\n",
      "  Consecutive speakers: [(0, 1, '#Person1#')]\n",
      "Index 11578:\n",
      "  Consecutive speakers: [(0, 1, '#Person1#')]\n"
     ]
    }
   ],
   "source": [
    "# 동일한 화자가 연속으로 말하는 경우\n",
    "\n",
    "def find_consecutive_speakers(dialogue):\n",
    "    speaker_pattern = re.compile(r'#Person\\d+#')\n",
    "    speakers = speaker_pattern.findall(dialogue)\n",
    "    consecutive_speakers = []\n",
    "    for i in range(1, len(speakers)):\n",
    "        if speakers[i] == speakers[i - 1]:\n",
    "            consecutive_speakers.append((i - 1, i, speakers[i]))\n",
    "    return consecutive_speakers\n",
    "\n",
    "# 잘못된 화자 이름 예) 사람1\n",
    "def find_misspelled_speakers(dialogue):\n",
    "    incorrect_speaker_pattern = re.compile(r'(사람\\d+|PERSON\\d+)')\n",
    "    misspelled_speakers = incorrect_speaker_pattern.findall(dialogue)\n",
    "    return misspelled_speakers\n",
    "\n",
    "# 모든 오류 찾기\n",
    "for index, row in train.iterrows():\n",
    "    consecutive_speakers = find_consecutive_speakers(row['dialogue'])\n",
    "    misspelled_speakers = find_misspelled_speakers(row['dialogue'])\n",
    "    \n",
    "    if consecutive_speakers or misspelled_speakers:\n",
    "        print(f\"Index {index}:\")\n",
    "        if consecutive_speakers:\n",
    "            print(f\"  Consecutive speakers: {consecutive_speakers}\")\n",
    "        if misspelled_speakers:\n",
    "            print(f\"  Misspelled speakers: {misspelled_speakers}\")\n"
   ]
  },
  {
   "cell_type": "code",
   "execution_count": 367,
   "metadata": {},
   "outputs": [
    {
     "name": "stdout",
     "output_type": "stream",
     "text": [
      "#Person1#: 쿠퍼씨! 어제 수업에서 가르쳐주신 것을 바탕으로 제 스스로 색을 만들어 보려고 했습니다. 그런데 쉽지 않았어요.\n",
      "#Person1#: 여기 보시겠어요? 보라색을 만들고 싶었는데, 파란색을 충분히 사용하지 않아서 약간 회색이고 지루하게 나왔어요.\n",
      "#Person2#: 그래도 잘 만들어진 것 같아요! 이게 바로 그림 그리는 재미 중 하나죠 - 조금의 상상력으로 할 수 있는 것을 발견하고, 위험을 감수하고, 새로운 것을 시도하는 것.\n",
      "#Person1#: 격려해주셔서 감사합니다.\n",
      "#Person2#: 때때로 가장 아름다운 것들은 예술적인 우연에서 나옵니다. 그리고 저는 거의 모든 흥미로운 것들도 마찬가지라고 생각해요.\n",
      "------------------------------\n",
      "쿠퍼 선생님은 #Person1#의 그림을 칭찬하며 격려하고, 가장 아름다운 것들은 예술적인 우연에서 나온다고 #Person1#에게 말한다\n"
     ]
    }
   ],
   "source": [
    "num = 11578\n",
    "print(train.iloc[num, 1])\n",
    "print('-'*30)\n",
    "print(train.iloc[num, 2])"
   ]
  },
  {
   "cell_type": "code",
   "execution_count": 368,
   "metadata": {},
   "outputs": [],
   "source": [
    "train.iloc[345, 1] = re.sub(r'#Person1#: 아니요. 입원할 필요는 없습니다.', '#Person2#: 아니요. 입원할 필요는 없습니다.', train.iloc[345, 1])\n",
    "train.iloc[484, 1] = re.sub(r'#Person1#: 인상적이네. 우리는 좋은 관계야.', '#Person1#: 인상적이네. \\n#Person2#: 우리는 좋은 관계야.', train.iloc[484, 1])\n",
    "train.iloc[756, 1] = re.sub(r'#Person1#: 안녕, 메이슨!', '#Person2#: 안녕, 메이슨!', train.iloc[756, 1])\n",
    "train.iloc[839, 1] = re.sub(r'#사람1', '#Person1#: ', train.iloc[839, 1])\n",
    "train.iloc[872, 1] = re.sub(r'#Person1#: 중국은행에서', '#Person2#: 중국은행에서', train.iloc[872, 1])\n",
    "train.iloc[925, 1] = re.sub(r'\\n#Person1#: 적자생존이라는', ' 적자생존이라는', train.iloc[925, 1])\n",
    "train.iloc[982, 1] = re.sub(r'\\n#Person2#: 왜 안 가세요', ' 왜 안 가세요', train.iloc[982, 1])\n",
    "train.iloc[1033, 1] = re.sub(r' 메리의 취미가 뭐야?', '\\n#Person1#: 메리의 취미가 뭐야?', train.iloc[1033, 1])\n",
    "train.iloc[1125, 1] = re.sub(r'사람1#', '#Person1#', train.iloc[1125, 1])\n",
    "train.iloc[1142, 1] = re.sub(r'사람1#', '#Person1#', train.iloc[1142, 1])\n",
    "train.iloc[1220, 1] = re.sub(r'#Person2#: 음', '#Person1#: 음', train.iloc[1220, 1])\n",
    "train.iloc[1236, 1] = re.sub(r'#고객님', '#Person2#: 고객님', train.iloc[1236, 1])\n",
    "train.iloc[1278, 1] = re.sub(r'#고객님', '#Person2#: 고객님', train.iloc[1278, 1])\n",
    "train.iloc[1283, 1] = re.sub(r'#어디', '#Person1#: 어디', train.iloc[1283, 1])\n",
    "\n",
    "train.iloc[1301, 1] = re.sub(r'#샐러드용', '#Person1#: 샐러드용', train.iloc[1301, 1])\n",
    "train.iloc[1302, 1] = re.sub(r'#페리에와', '#Person1#: 페리에와', train.iloc[1302, 1])\n",
    "train.iloc[1306, 1] = re.sub(r'#나', '#Person2#: 나', train.iloc[1306, 1])\n",
    "train.iloc[1322, 1] = re.sub(r'#여기서', '#Person1#: 여기서', train.iloc[1322, 1])\n",
    "train.iloc[1419, 1] = re.sub(r'\\n#Person1#: 어떠세요?', ' 어떠세요?', train.iloc[1419, 1])\n",
    "train.iloc[1424, 1] = re.sub(r' 방으로 가는 길은 어느 쪽인가요?', '#Person1#: 방으로 가는 길은 어느 쪽인가요?', train.iloc[1424, 1])\n",
    "train.iloc[1440, 1] = re.sub(r' 언제 예약하시겠습니까', '\\n#Person1#: 언제 예약하시겠습니까', train.iloc[1440, 1])\n",
    "train.iloc[1475, 1] = re.sub(r'\\n#Person2#: 그거 좋겠네요.', '', train.iloc[1475, 1])\n",
    "train.iloc[1497, 1] = re.sub(r' 복사 한', '#Person1#: 복사 한', train.iloc[1497, 1])\n",
    "train.iloc[1547, 1] = re.sub(r'#작은 걸로 주세요.', '#Person2#: 작은 걸로 주세요.', train.iloc[1547, 1])\n",
    "train.iloc[1791, 1] = re.sub(r'#Person1#: 봐', '#Person2#: 봐', train.iloc[1791, 1])\n",
    "train.iloc[3628, 1] = re.sub(r' 당신의 전면 범퍼도', '\\n#Person1#: 당신의 전면 범퍼도', train.iloc[3628, 1])\n",
    "## 5441은 두 번 반복됨 ##\n",
    "train.iloc[5441, 1] = '#Person1#: 안녕, 내가 왔어! 음. . . 너의 머리가 꽤 손상되었고, 끝이 갈라져있어.\\n#Person2#: 정말? 어떻게 해야 할까?\\n#Person1#: 잘라내면 갈라진 끝은 해결될 거야, 하지만 딥 컨디셔닝 트리트먼트가 필요할 수도 있어.\\n#Person2#: 음, 알겠어. 네가 도움이 될 것 같다고 생각하는 대로 해줘.\\n#Person1#: 얼굴을 감싸는 레이어도 추가할 거야.\\n#Person2#: 위쪽으로 가위로 손을 좀 봐줄 수 있을까? 내 머리 숫이 정말 많아.\\n#Person1#: 문제 없어!'\n",
    "\n",
    "train.iloc[6759, 1] = re.sub(r'비위생적이져죠', '비위생적이죠', train.iloc[6759, 1])\n",
    "train.iloc[6759, 1] = re.sub(r'\\n#Person2#: 아,', '아,', train.iloc[6759, 1])\n",
    "train.iloc[6799, 1] = re.sub(r'\\n#Person1#: 뭐, 음.', ' 뭐, 음.', train.iloc[6799, 1])\n",
    "train.iloc[8645, 1] = re.sub(r'#Person2#: 저는 서프라이즈', '#Person1#: 저는 서프라이즈', train.iloc[8645, 1])\n",
    "train.iloc[9898, 1] = re.sub(r'#Person1#: 오, 안녕', '#Person2#: 오, 안녕', train.iloc[9898, 1])\n",
    "train.iloc[11578, 1] = re.sub(r'그런데 쉽지 않았어요.\\r\\n#Person1#: 여기', '그런데 쉽지 않았어요. 여기', train.iloc[11578, 1])\n",
    "train.drop(1294, inplace=True)\n",
    "train.reset_index(drop=True, inplace=True)"
   ]
  },
  {
   "cell_type": "code",
   "execution_count": 369,
   "metadata": {},
   "outputs": [],
   "source": [
    "train.to_csv('../data/train.csv', index=False)\n",
    "dev.to_csv('../data/dev.csv', index=False)\n",
    "test.to_csv('../data/test.csv', index=False)"
   ]
  }
 ],
 "metadata": {
  "kernelspec": {
   "display_name": "base",
   "language": "python",
   "name": "python3"
  },
  "language_info": {
   "codemirror_mode": {
    "name": "ipython",
    "version": 3
   },
   "file_extension": ".py",
   "mimetype": "text/x-python",
   "name": "python",
   "nbconvert_exporter": "python",
   "pygments_lexer": "ipython3",
   "version": "3.10.13"
  }
 },
 "nbformat": 4,
 "nbformat_minor": 2
}
